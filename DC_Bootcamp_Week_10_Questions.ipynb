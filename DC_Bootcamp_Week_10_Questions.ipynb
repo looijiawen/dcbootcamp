{
 "cells": [
  {
   "cell_type": "markdown",
   "metadata": {
    "id": "NpPlK3f9VIJg"
   },
   "source": [
    "# Pandas: \n",
    "### - Calling APIs using Python"
   ]
  },
  {
   "cell_type": "markdown",
   "metadata": {
    "id": "gN2RFGn3VIJi"
   },
   "source": [
    "<strong> <h2> Run The Following Code </h2> </strong>\n",
    "\n",
    "Hit SHIFT + ENTER when your cusor is inside the cell of code.<br/>"
   ]
  },
  {
   "cell_type": "markdown",
   "metadata": {
    "id": "3fskFP6UVIJo"
   },
   "source": [
    "> Import the packages"
   ]
  },
  {
   "cell_type": "code",
   "execution_count": null,
   "metadata": {
    "id": "GChe2i8UVIJo"
   },
   "outputs": [],
   "source": [
    "import pandas as pd\n",
    "import requests"
   ]
  },
  {
   "cell_type": "markdown",
   "metadata": {},
   "source": [
    "## Calling API Example 1"
   ]
  },
  {
   "cell_type": "markdown",
   "metadata": {},
   "source": [
    "> 1. Open this url in your browser: https://data.gov.sg/dataset/list-of-government-markets-hawker-centres\n",
    "> 2. Click on the \"Data API\" button on top rigth corner to see resource_id for this dataset\n",
    "> 3. Use **requests** package to call this API and get all first 5 rows of data"
   ]
  },
  {
   "cell_type": "code",
   "execution_count": null,
   "metadata": {},
   "outputs": [],
   "source": [
    "# Option A - Manually construct the request URL\n",
    "url_full = 'https://data.gov.sg/api/action/datastore_search?resource_id=8f6bba57-19fc-4f36-8dcf-c0bda382364d&limit=5'\n",
    "\n",
    "response = requests.get(url_full)"
   ]
  },
  {
   "cell_type": "code",
   "execution_count": null,
   "metadata": {},
   "outputs": [],
   "source": [
    "# Option B - (Recommneded) passing a dictionary to .get() method in requests to construct the request url\n",
    "url_base = 'https://data.gov.sg/api/action/datastore_search'\n",
    "\n",
    "parameters = {\n",
    "    'resource_id' : '8f6bba57-19fc-4f36-8dcf-c0bda382364d',\n",
    "    'limit': '5'\n",
    "}\n",
    "response = requests.get(url_base, params=parameters)"
   ]
  },
  {
   "cell_type": "code",
   "execution_count": null,
   "metadata": {},
   "outputs": [],
   "source": [
    "# Check the url that sent to the API server\n",
    "response.url"
   ]
  },
  {
   "cell_type": "code",
   "execution_count": null,
   "metadata": {},
   "outputs": [],
   "source": [
    "# Check the status of the request\n",
    "response.status_code"
   ]
  },
  {
   "cell_type": "code",
   "execution_count": null,
   "metadata": {},
   "outputs": [],
   "source": [
    "# View the json text returned by the API server\n",
    "response_dict = response.json()\n",
    "response_dict"
   ]
  },
  {
   "cell_type": "markdown",
   "metadata": {},
   "source": [
    "> The json text above is a nested-dictionary <br>\n",
    "> Picture below shows the structure in a visual form\n",
    "\n",
    "> ![](hawker_structure.png)"
   ]
  },
  {
   "cell_type": "code",
   "execution_count": null,
   "metadata": {},
   "outputs": [],
   "source": [
    "# Traverse the dictionary to the level where the main records are located\n",
    "response_dict['result']['total']"
   ]
  },
  {
   "cell_type": "code",
   "execution_count": null,
   "metadata": {},
   "outputs": [],
   "source": [
    "# Traverse the dictionary to the level where the main records are located\n",
    "records = response_dict['result']['records']\n",
    "records"
   ]
  },
  {
   "cell_type": "code",
   "execution_count": null,
   "metadata": {},
   "outputs": [],
   "source": [
    "# Check the number of records\n",
    "len(records)"
   ]
  },
  {
   "cell_type": "code",
   "execution_count": null,
   "metadata": {},
   "outputs": [],
   "source": [
    "# Use .json_normalize from Pandas to convert the dictionary into a DataFrame\n",
    "pd.json_normalize(records)"
   ]
  },
  {
   "cell_type": "code",
   "execution_count": null,
   "metadata": {},
   "outputs": [],
   "source": [
    "# Use .json_normalize from Pandas to convert the dictionary into a DataFrame \n",
    "# Store into a variable called \"df_hawker\"\n",
    "df_hawker = pd.json_normalize(records)"
   ]
  },
  {
   "cell_type": "markdown",
   "metadata": {},
   "source": [
    "## Calling API Example 2: with Parameters"
   ]
  },
  {
   "cell_type": "markdown",
   "metadata": {},
   "source": [
    "> 1. Open this url in your browser: https://www.onemap.gov.sg/docs/#onemap-rest-apis\n",
    "> 2. Understand the parameters (required and optional) of the \"search\" endpoint from OneMap API\n",
    "> 3. Use **requests** package to call this API and get all first 5 rows of data"
   ]
  },
  {
   "cell_type": "markdown",
   "metadata": {},
   "source": [
    "> ![apiexp](onemap_search.png)"
   ]
  },
  {
   "cell_type": "code",
   "execution_count": null,
   "metadata": {},
   "outputs": [],
   "source": [
    "# Try to call the API (Case-sensitive Parameters not match)\n",
    "\n",
    "url_base = 'https://developers.onemap.sg/commonapi/search'\n",
    "\n",
    "parameters = {\n",
    "    'searchval' : 'Adam Road Food Centre',\n",
    "    'returngeom': 'Y',\n",
    "    'getAddrDetails': 'Y'\n",
    "}\n",
    "response = requests.get(url_base, params=parameters)\n",
    "response.status_code"
   ]
  },
  {
   "cell_type": "code",
   "execution_count": null,
   "metadata": {},
   "outputs": [],
   "source": [
    "# Try to call the API (Required Parameters not provided)\n",
    "\n",
    "url_base = 'https://developers.onemap.sg/commonapi/search'\n",
    "\n",
    "parameters = {\n",
    "    'searchval' : 'Adam Road Food Centre',\n",
    "}\n",
    "response = requests.get(url_base, params=parameters)\n",
    "response.status_code"
   ]
  },
  {
   "cell_type": "code",
   "execution_count": null,
   "metadata": {},
   "outputs": [],
   "source": [
    "# Try to call the API (Correctly)\n",
    "\n",
    "url_base = 'https://developers.onemap.sg/commonapi/search'\n",
    "\n",
    "parameters = {\n",
    "    'searchVal' : 'Adam Road Food Centre',\n",
    "    'returnGeom': 'Y',\n",
    "    'getAddrDetails': 'Y'\n",
    "}\n",
    "response = requests.get(url_base, params=parameters)\n",
    "response.status_code"
   ]
  },
  {
   "cell_type": "code",
   "execution_count": null,
   "metadata": {},
   "outputs": [],
   "source": [
    "# View the json text returned by the server\n",
    "response.json()"
   ]
  },
  {
   "cell_type": "code",
   "execution_count": null,
   "metadata": {},
   "outputs": [],
   "source": [
    "# Use .json_normalize from Pandas to convert the dictionary into a DataFrame \n",
    "pd.json_normalize(response.json()['results'])"
   ]
  },
  {
   "cell_type": "markdown",
   "metadata": {},
   "source": [
    "> 1. Loop through the **df_hawker** and find the geoinfo of each hawker from OneMap's SEARCH endpoint\n",
    "> 2. Store all the geoinfo as a new DataFrame"
   ]
  },
  {
   "cell_type": "code",
   "execution_count": null,
   "metadata": {},
   "outputs": [],
   "source": [
    "df_hawker_geoinfo = []\n",
    "\n",
    "for row_index, row in df_hawker.iterrows():\n",
    "    # Create a dictionary of the parameters\n",
    "    parameters = {\n",
    "        'searchVal' : row['name_of_centre'],\n",
    "        'returnGeom': 'Y',\n",
    "        'getAddrDetails': 'Y'\n",
    "    }\n",
    "\n",
    "    # Send the request via .get() method\n",
    "    response = requests.get(url_base, params=parameters)\n",
    "\n",
    "    # Check if the request is successful\n",
    "    if response.status_code == 200:\n",
    "        response_dict = response.json()\n",
    "        # Check if there is at least 1 record\n",
    "        if len(response_dict['results']) > 0:\n",
    "            df_temp = pd.json_normalize(response_dict['results'])\n",
    "            df_hawker_geoinfo.append(df_temp)\n",
    "    else:\n",
    "        print('The request failed and returned status code:' + str(response.status_code))"
   ]
  },
  {
   "cell_type": "code",
   "execution_count": null,
   "metadata": {},
   "outputs": [],
   "source": [
    "# Concatenate the records stored in multiple DataFrames into a single DataFrame\n",
    "df_hawker_geoinfo = pd.concat(df_hawker_geoinfo, axis=0, ignore_index=True)\n",
    "df_hawker_geoinfo"
   ]
  },
  {
   "cell_type": "markdown",
   "metadata": {},
   "source": [
    "# !! Your Turn !!"
   ]
  },
  {
   "cell_type": "markdown",
   "metadata": {},
   "source": [
    "## Replace the code marked as <..> COMPLETELY with your own.\n",
    "- The placeholder <..> is meant to be guidance for your answer.\n",
    "- It should not be restricting your solutions for the questions.\n",
    "- Feel free to add more lines or use less lines,\n",
    "- One placeholder does not mean that you can only insert one line of codes."
   ]
  },
  {
   "cell_type": "markdown",
   "metadata": {},
   "source": [
    "# Question 1\n",
    "> - Continue from the **df_hawker** and **df_hawker_geoinfo**, produce a new DataFrame **df_hawker_center**, <br>\n",
    "> where each row is a unique hawker center with all the columns both **df_hawker** and **df_hawker_geoinfo**\n",
    "> - The four columns \"X\", \"Y\", \"LONGTITUDE\", and \"_id\" must be excluded in the **df_hawker_center**\n",
    "> - Change all the column names into lower case"
   ]
  },
  {
   "cell_type": "code",
   "execution_count": null,
   "metadata": {},
   "outputs": [],
   "source": [
    "<..>"
   ]
  },
  {
   "cell_type": "markdown",
   "metadata": {},
   "source": [
    "# Question 2\n"
   ]
  },
  {
   "cell_type": "markdown",
   "metadata": {},
   "source": [
    "> Part A) <br>\n",
    "> Store the first 200 records from the Excel file located at **data > 0_raw_data > hdb_postal_to_stations.xlsx** into a DataFrame, called **df_mrt_subset**"
   ]
  },
  {
   "cell_type": "code",
   "execution_count": null,
   "metadata": {},
   "outputs": [],
   "source": [
    "df_mrt_subset = <..>"
   ]
  },
  {
   "cell_type": "markdown",
   "metadata": {},
   "source": [
    "> Part B) <br>\n",
    "> - Retrieve the geoinfo using OneMap's API Endpoint 'https://developers.onemap.sg/commonapi/search', <br>\n",
    "> using the postal codes of the MRT stations\n",
    "> - Store the geoinfo for the MRT stations' postal code into DataFrame **df_mrt_geoinfo** <br>\n",
    "> 💡Hint: You will need to the remove the decimal point at the end of each postal code"
   ]
  },
  {
   "cell_type": "code",
   "execution_count": null,
   "metadata": {},
   "outputs": [],
   "source": [
    "<..>\n",
    "\n",
    "<..>\n",
    "\n",
    "<..>"
   ]
  },
  {
   "cell_type": "markdown",
   "metadata": {},
   "source": [
    "# Question 3"
   ]
  },
  {
   "cell_type": "markdown",
   "metadata": {},
   "source": [
    "> Part A) <br>\n",
    "> - Download all the records for HDB carpark info from the API https://data.gov.sg/dataset/hdb-carpark-information\n",
    "> - Store the records into a DataFrame, called **df_carpark**"
   ]
  },
  {
   "cell_type": "code",
   "execution_count": null,
   "metadata": {},
   "outputs": [],
   "source": [
    "<..>"
   ]
  },
  {
   "cell_type": "markdown",
   "metadata": {},
   "source": [
    "> Part B)** - Challenging Question [Optional] <br>\n",
    "> - Check the number of records in **df_carpark**\n",
    "> - You will realize the total records on data.gov.sg is 2,183 records, but **df_carpark**only has 100 records\n",
    "> - This is because it's common for API return a \"page\" of results per call. In this case, the API returns 100 records per page.\n",
    "> - If you check *response.json()['result']['_links']*, you will see there are two links, the \"next\" link shows how to retrieve the next 100 records\n",
    "> - Find a way to download all 2,183 records and store into the dataframe **df_carparks**\n",
    "\n",
    "> hint: you can use anything that you have learnt so far to achieve this"
   ]
  },
  {
   "cell_type": "code",
   "execution_count": null,
   "metadata": {},
   "outputs": [],
   "source": [
    "response.json()['result']['_links']"
   ]
  },
  {
   "cell_type": "code",
   "execution_count": null,
   "metadata": {},
   "outputs": [],
   "source": [
    "<..>"
   ]
  },
  {
   "cell_type": "code",
   "execution_count": null,
   "metadata": {},
   "outputs": [],
   "source": [
    "len(df_carparks)"
   ]
  }
 ],
 "metadata": {
  "colab": {
   "name": "DC Bootcamp Week 17.ipynb",
   "provenance": []
  },
  "kernelspec": {
   "display_name": "Python 3",
   "language": "python",
   "name": "python3"
  },
  "language_info": {
   "codemirror_mode": {
    "name": "ipython",
    "version": 3
   },
   "file_extension": ".py",
   "mimetype": "text/x-python",
   "name": "python",
   "nbconvert_exporter": "python",
   "pygments_lexer": "ipython3",
   "version": "3.8.6"
  }
 },
 "nbformat": 4,
 "nbformat_minor": 4
}
